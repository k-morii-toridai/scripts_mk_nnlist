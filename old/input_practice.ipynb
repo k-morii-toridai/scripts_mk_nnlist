{
 "cells": [
  {
   "cell_type": "code",
   "execution_count": 4,
   "id": "17ab205d-0d5e-4f60-b15f-137b49874e4f",
   "metadata": {
    "tags": []
   },
   "outputs": [
    {
     "name": "stdin",
     "output_type": "stream",
     "text": [
      "Input a number which is poscar2nnlist's second arg. :nearest neighbors distance(Å) you want to catch 1.7\n"
     ]
    }
   ],
   "source": [
    "inputted_distance = input(\"Input a number which is poscar2nnlist's second arg. :nearest neighbors distance(Å) you want to catch\")"
   ]
  },
  {
   "cell_type": "code",
   "execution_count": 5,
   "id": "6c5b7fa8-584e-4cf5-8f2e-0ced0a1f26fb",
   "metadata": {
    "tags": []
   },
   "outputs": [
    {
     "data": {
      "text/plain": [
       "'1.7'"
      ]
     },
     "execution_count": 5,
     "metadata": {},
     "output_type": "execute_result"
    }
   ],
   "source": [
    "inputted_distance"
   ]
  }
 ],
 "metadata": {
  "kernelspec": {
   "display_name": "Python 3 (ipykernel)",
   "language": "python",
   "name": "python3"
  },
  "language_info": {
   "codemirror_mode": {
    "name": "ipython",
    "version": 3
   },
   "file_extension": ".py",
   "mimetype": "text/x-python",
   "name": "python",
   "nbconvert_exporter": "python",
   "pygments_lexer": "ipython3",
   "version": "3.10.12"
  }
 },
 "nbformat": 4,
 "nbformat_minor": 5
}
